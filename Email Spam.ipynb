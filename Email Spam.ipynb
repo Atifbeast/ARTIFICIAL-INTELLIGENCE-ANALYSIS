{
 "cells": [
  {
   "cell_type": "code",
   "execution_count": 1,
   "id": "dac5024b",
   "metadata": {},
   "outputs": [],
   "source": [
    "# data cleaning\n",
    "# EDA\n",
    "# model selection\n",
    "# model predict\n",
    "# streamlit"
   ]
  },
  {
   "cell_type": "code",
   "execution_count": 2,
   "id": "4f4c46d8",
   "metadata": {},
   "outputs": [
    {
     "data": {
      "text/plain": [
       "'data cleaning\\n   $ lower_case{n}\\n   $ removing speacial chars{d}\\n   $ word_tokenize{d}\\n   $ stop_words and punctuations{d}\\n   $ stemming{d}'"
      ]
     },
     "execution_count": 2,
     "metadata": {},
     "output_type": "execute_result"
    }
   ],
   "source": [
    "'''data cleaning\n",
    "   $ lower_case{n}\n",
    "   $ removing speacial chars{d}\n",
    "   $ word_tokenize{d}\n",
    "   $ stop_words and punctuations{d}\n",
    "   $ stemming{d}'''"
   ]
  },
  {
   "cell_type": "code",
   "execution_count": 3,
   "id": "cffbfcc5",
   "metadata": {},
   "outputs": [],
   "source": [
    "import pandas as pd\n",
    "email = pd.read_csv('spam.csv')"
   ]
  },
  {
   "cell_type": "code",
   "execution_count": 4,
   "id": "2bd948d7",
   "metadata": {},
   "outputs": [
    {
     "data": {
      "text/html": [
       "<div>\n",
       "<style scoped>\n",
       "    .dataframe tbody tr th:only-of-type {\n",
       "        vertical-align: middle;\n",
       "    }\n",
       "\n",
       "    .dataframe tbody tr th {\n",
       "        vertical-align: top;\n",
       "    }\n",
       "\n",
       "    .dataframe thead th {\n",
       "        text-align: right;\n",
       "    }\n",
       "</style>\n",
       "<table border=\"1\" class=\"dataframe\">\n",
       "  <thead>\n",
       "    <tr style=\"text-align: right;\">\n",
       "      <th></th>\n",
       "      <th>Category</th>\n",
       "      <th>Message</th>\n",
       "    </tr>\n",
       "  </thead>\n",
       "  <tbody>\n",
       "    <tr>\n",
       "      <th>0</th>\n",
       "      <td>ham</td>\n",
       "      <td>Go until jurong point, crazy.. Available only ...</td>\n",
       "    </tr>\n",
       "    <tr>\n",
       "      <th>1</th>\n",
       "      <td>ham</td>\n",
       "      <td>Ok lar... Joking wif u oni...</td>\n",
       "    </tr>\n",
       "    <tr>\n",
       "      <th>2</th>\n",
       "      <td>spam</td>\n",
       "      <td>Free entry in 2 a wkly comp to win FA Cup fina...</td>\n",
       "    </tr>\n",
       "    <tr>\n",
       "      <th>3</th>\n",
       "      <td>ham</td>\n",
       "      <td>U dun say so early hor... U c already then say...</td>\n",
       "    </tr>\n",
       "    <tr>\n",
       "      <th>4</th>\n",
       "      <td>ham</td>\n",
       "      <td>Nah I don't think he goes to usf, he lives aro...</td>\n",
       "    </tr>\n",
       "  </tbody>\n",
       "</table>\n",
       "</div>"
      ],
      "text/plain": [
       "  Category                                            Message\n",
       "0      ham  Go until jurong point, crazy.. Available only ...\n",
       "1      ham                      Ok lar... Joking wif u oni...\n",
       "2     spam  Free entry in 2 a wkly comp to win FA Cup fina...\n",
       "3      ham  U dun say so early hor... U c already then say...\n",
       "4      ham  Nah I don't think he goes to usf, he lives aro..."
      ]
     },
     "execution_count": 4,
     "metadata": {},
     "output_type": "execute_result"
    }
   ],
   "source": [
    "email.head()"
   ]
  },
  {
   "cell_type": "markdown",
   "id": "ce9bde2e",
   "metadata": {},
   "source": [
    "### DATA CLEANING"
   ]
  },
  {
   "cell_type": "code",
   "execution_count": 5,
   "id": "cbfd4358",
   "metadata": {},
   "outputs": [],
   "source": [
    "def func(n):\n",
    "    if n == 'ham':\n",
    "        return 1\n",
    "    elif n == 'spam':\n",
    "        return 0\n",
    "email['category'] = email['Category'].apply(func)"
   ]
  },
  {
   "cell_type": "code",
   "execution_count": 6,
   "id": "38bef19f",
   "metadata": {},
   "outputs": [
    {
     "data": {
      "text/plain": [
       "1    4825\n",
       "0     747\n",
       "Name: category, dtype: int64"
      ]
     },
     "execution_count": 6,
     "metadata": {},
     "output_type": "execute_result"
    }
   ],
   "source": [
    "email['category'].value_counts()"
   ]
  },
  {
   "cell_type": "code",
   "execution_count": 7,
   "id": "93f7e293",
   "metadata": {},
   "outputs": [
    {
     "data": {
      "text/html": [
       "<div>\n",
       "<style scoped>\n",
       "    .dataframe tbody tr th:only-of-type {\n",
       "        vertical-align: middle;\n",
       "    }\n",
       "\n",
       "    .dataframe tbody tr th {\n",
       "        vertical-align: top;\n",
       "    }\n",
       "\n",
       "    .dataframe thead th {\n",
       "        text-align: right;\n",
       "    }\n",
       "</style>\n",
       "<table border=\"1\" class=\"dataframe\">\n",
       "  <thead>\n",
       "    <tr style=\"text-align: right;\">\n",
       "      <th></th>\n",
       "      <th>category</th>\n",
       "    </tr>\n",
       "  </thead>\n",
       "  <tbody>\n",
       "    <tr>\n",
       "      <th>count</th>\n",
       "      <td>5572.000000</td>\n",
       "    </tr>\n",
       "    <tr>\n",
       "      <th>mean</th>\n",
       "      <td>0.865937</td>\n",
       "    </tr>\n",
       "    <tr>\n",
       "      <th>std</th>\n",
       "      <td>0.340751</td>\n",
       "    </tr>\n",
       "    <tr>\n",
       "      <th>min</th>\n",
       "      <td>0.000000</td>\n",
       "    </tr>\n",
       "    <tr>\n",
       "      <th>25%</th>\n",
       "      <td>1.000000</td>\n",
       "    </tr>\n",
       "    <tr>\n",
       "      <th>50%</th>\n",
       "      <td>1.000000</td>\n",
       "    </tr>\n",
       "    <tr>\n",
       "      <th>75%</th>\n",
       "      <td>1.000000</td>\n",
       "    </tr>\n",
       "    <tr>\n",
       "      <th>max</th>\n",
       "      <td>1.000000</td>\n",
       "    </tr>\n",
       "  </tbody>\n",
       "</table>\n",
       "</div>"
      ],
      "text/plain": [
       "          category\n",
       "count  5572.000000\n",
       "mean      0.865937\n",
       "std       0.340751\n",
       "min       0.000000\n",
       "25%       1.000000\n",
       "50%       1.000000\n",
       "75%       1.000000\n",
       "max       1.000000"
      ]
     },
     "execution_count": 7,
     "metadata": {},
     "output_type": "execute_result"
    }
   ],
   "source": [
    "email.describe()"
   ]
  },
  {
   "cell_type": "code",
   "execution_count": 8,
   "id": "517e2882",
   "metadata": {},
   "outputs": [],
   "source": [
    "msg = list(email['Message'])"
   ]
  },
  {
   "cell_type": "code",
   "execution_count": 9,
   "id": "681f38f1",
   "metadata": {},
   "outputs": [],
   "source": [
    "lst = []\n",
    "for i in msg:\n",
    "    lst.append(i.split('\\n'))"
   ]
  },
  {
   "cell_type": "code",
   "execution_count": 10,
   "id": "05646092",
   "metadata": {},
   "outputs": [],
   "source": [
    "import nltk\n",
    "from nltk.tokenize import word_tokenize\n",
    "msgs = []\n",
    "for i in lst:\n",
    "    for j in i:\n",
    "        msgs.append(word_tokenize(j))"
   ]
  },
  {
   "cell_type": "code",
   "execution_count": 11,
   "id": "97a975ca",
   "metadata": {},
   "outputs": [],
   "source": [
    "# msgs contains word tokenized\n",
    "import string\n",
    "from nltk.corpus import stopwords\n",
    "\n",
    "punct = list(string.punctuation)\n",
    "stops = stopwords.words('english')"
   ]
  },
  {
   "cell_type": "code",
   "execution_count": 12,
   "id": "8d6e1036",
   "metadata": {},
   "outputs": [],
   "source": [
    "# removing spc chars\n",
    "spc = []\n",
    "for i in msgs:\n",
    "    for j in i:\n",
    "        if not j.isalnum():\n",
    "            i.remove(j)\n",
    "            spc.append(j)"
   ]
  },
  {
   "cell_type": "code",
   "execution_count": 13,
   "id": "c8849c61",
   "metadata": {},
   "outputs": [],
   "source": [
    "st = []\n",
    "for i in msgs:\n",
    "    for j in i:\n",
    "        if j in stops:\n",
    "            i.remove(j)\n",
    "            st.append(j)"
   ]
  },
  {
   "cell_type": "code",
   "execution_count": 14,
   "id": "77f8ec70",
   "metadata": {},
   "outputs": [],
   "source": [
    "# stemming\n",
    "from nltk.stem import PorterStemmer\n",
    "ps = PorterStemmer()\n",
    "for i in msgs:\n",
    "    for j,k in enumerate(i):\n",
    "        i[j] = ps.stem(k) \n",
    "        "
   ]
  },
  {
   "cell_type": "code",
   "execution_count": 15,
   "id": "83c51ed2",
   "metadata": {},
   "outputs": [
    {
     "name": "stdout",
     "output_type": "stream",
     "text": [
      "Had your mobile 11 months or more? U R entitled to Update to the latest colour mobiles with camera for Free! Call The Mobile Update Co FREE on 08002986030\n",
      "had mobil 11 month more u r entitl updat the latest colour mobil camera free call the mobil updat co free 08002986030\n"
     ]
    }
   ],
   "source": [
    "print(msg[9])\n",
    "print(' '.join(msgs[9]))"
   ]
  },
  {
   "cell_type": "code",
   "execution_count": 16,
   "id": "3c9cae65",
   "metadata": {},
   "outputs": [
    {
     "data": {
      "text/plain": [
       "([<matplotlib.patches.Wedge at 0x1e2e9648760>,\n",
       "  <matplotlib.patches.Wedge at 0x1e2e9648c40>],\n",
       " [Text(-1.0038714981945518, 0.4497132587689916, 'Spam'),\n",
       "  Text(1.0038714771419537, -0.44971330576360763, 'Ham')])"
      ]
     },
     "execution_count": 16,
     "metadata": {},
     "output_type": "execute_result"
    },
    {
     "data": {
      "image/png": "[encoded data removed]",
      "text/plain": [
       "<Figure size 432x288 with 1 Axes>"
      ]
     },
     "metadata": {},
     "output_type": "display_data"
    }
   ],
   "source": [
    "# plot spam vs ham pie chart  (PART OF EDA)\n",
    "from matplotlib import pyplot as plt\n",
    "plot = email['category'].value_counts()\n",
    "plt.pie(plot,labels = ['Spam', 'Ham'])\n"
   ]
  },
  {
   "cell_type": "code",
   "execution_count": 17,
   "id": "4eefe1b0",
   "metadata": {},
   "outputs": [],
   "source": [
    "lst = []\n",
    "for i in msgs:\n",
    "    lst.append(' '.join(i))"
   ]
  },
  {
   "cell_type": "code",
   "execution_count": 18,
   "id": "f5ba7ac2",
   "metadata": {},
   "outputs": [],
   "source": [
    "v = pd.Series(lst)"
   ]
  },
  {
   "cell_type": "code",
   "execution_count": 19,
   "id": "1ca62dba",
   "metadata": {},
   "outputs": [],
   "source": [
    "email['my_texed'] = v"
   ]
  },
  {
   "cell_type": "code",
   "execution_count": 20,
   "id": "1e4a5795",
   "metadata": {},
   "outputs": [
    {
     "data": {
      "text/html": [
       "<div>\n",
       "<style scoped>\n",
       "    .dataframe tbody tr th:only-of-type {\n",
       "        vertical-align: middle;\n",
       "    }\n",
       "\n",
       "    .dataframe tbody tr th {\n",
       "        vertical-align: top;\n",
       "    }\n",
       "\n",
       "    .dataframe thead th {\n",
       "        text-align: right;\n",
       "    }\n",
       "</style>\n",
       "<table border=\"1\" class=\"dataframe\">\n",
       "  <thead>\n",
       "    <tr style=\"text-align: right;\">\n",
       "      <th></th>\n",
       "      <th>Category</th>\n",
       "      <th>Message</th>\n",
       "      <th>category</th>\n",
       "      <th>my_texed</th>\n",
       "    </tr>\n",
       "  </thead>\n",
       "  <tbody>\n",
       "    <tr>\n",
       "      <th>0</th>\n",
       "      <td>ham</td>\n",
       "      <td>Go until jurong point, crazy.. Available only ...</td>\n",
       "      <td>1</td>\n",
       "      <td>go jurong point crazi avail in bugi n great wo...</td>\n",
       "    </tr>\n",
       "    <tr>\n",
       "      <th>1</th>\n",
       "      <td>ham</td>\n",
       "      <td>Ok lar... Joking wif u oni...</td>\n",
       "      <td>1</td>\n",
       "      <td>ok lar joke wif u oni</td>\n",
       "    </tr>\n",
       "    <tr>\n",
       "      <th>2</th>\n",
       "      <td>spam</td>\n",
       "      <td>Free entry in 2 a wkly comp to win FA Cup fina...</td>\n",
       "      <td>0</td>\n",
       "      <td>free entri 2 wkli comp win fa cup final tkt 21...</td>\n",
       "    </tr>\n",
       "    <tr>\n",
       "      <th>3</th>\n",
       "      <td>ham</td>\n",
       "      <td>U dun say so early hor... U c already then say...</td>\n",
       "      <td>1</td>\n",
       "      <td>u dun say earli hor u c alreadi say</td>\n",
       "    </tr>\n",
       "    <tr>\n",
       "      <th>4</th>\n",
       "      <td>ham</td>\n",
       "      <td>Nah I don't think he goes to usf, he lives aro...</td>\n",
       "      <td>1</td>\n",
       "      <td>nah i think goe usf live around though</td>\n",
       "    </tr>\n",
       "    <tr>\n",
       "      <th>...</th>\n",
       "      <td>...</td>\n",
       "      <td>...</td>\n",
       "      <td>...</td>\n",
       "      <td>...</td>\n",
       "    </tr>\n",
       "    <tr>\n",
       "      <th>5567</th>\n",
       "      <td>spam</td>\n",
       "      <td>This is the 2nd time we have tried 2 contact u...</td>\n",
       "      <td>0</td>\n",
       "      <td>huh lei</td>\n",
       "    </tr>\n",
       "    <tr>\n",
       "      <th>5568</th>\n",
       "      <td>ham</td>\n",
       "      <td>Will ü b going to esplanade fr home?</td>\n",
       "      <td>1</td>\n",
       "      <td>remind from o2 to get pound free call credit d...</td>\n",
       "    </tr>\n",
       "    <tr>\n",
       "      <th>5569</th>\n",
       "      <td>ham</td>\n",
       "      <td>Pity, * was in mood for that. So...any other s...</td>\n",
       "      <td>1</td>\n",
       "      <td>thi 2nd time tri 2 contact u have won the poun...</td>\n",
       "    </tr>\n",
       "    <tr>\n",
       "      <th>5570</th>\n",
       "      <td>ham</td>\n",
       "      <td>The guy did some bitching but I acted like i'd...</td>\n",
       "      <td>1</td>\n",
       "      <td>will ü b go esplanad fr home</td>\n",
       "    </tr>\n",
       "    <tr>\n",
       "      <th>5571</th>\n",
       "      <td>ham</td>\n",
       "      <td>Rofl. Its true to its name</td>\n",
       "      <td>1</td>\n",
       "      <td>piti * in mood that so other suggest</td>\n",
       "    </tr>\n",
       "  </tbody>\n",
       "</table>\n",
       "<p>5572 rows × 4 columns</p>\n",
       "</div>"
      ],
      "text/plain": [
       "     Category                                            Message  category  \\\n",
       "0         ham  Go until jurong point, crazy.. Available only ...         1   \n",
       "1         ham                      Ok lar... Joking wif u oni...         1   \n",
       "2        spam  Free entry in 2 a wkly comp to win FA Cup fina...         0   \n",
       "3         ham  U dun say so early hor... U c already then say...         1   \n",
       "4         ham  Nah I don't think he goes to usf, he lives aro...         1   \n",
       "...       ...                                                ...       ...   \n",
       "5567     spam  This is the 2nd time we have tried 2 contact u...         0   \n",
       "5568      ham               Will ü b going to esplanade fr home?         1   \n",
       "5569      ham  Pity, * was in mood for that. So...any other s...         1   \n",
       "5570      ham  The guy did some bitching but I acted like i'd...         1   \n",
       "5571      ham                         Rofl. Its true to its name         1   \n",
       "\n",
       "                                               my_texed  \n",
       "0     go jurong point crazi avail in bugi n great wo...  \n",
       "1                                 ok lar joke wif u oni  \n",
       "2     free entri 2 wkli comp win fa cup final tkt 21...  \n",
       "3                   u dun say earli hor u c alreadi say  \n",
       "4                nah i think goe usf live around though  \n",
       "...                                                 ...  \n",
       "5567                                            huh lei  \n",
       "5568  remind from o2 to get pound free call credit d...  \n",
       "5569  thi 2nd time tri 2 contact u have won the poun...  \n",
       "5570                       will ü b go esplanad fr home  \n",
       "5571               piti * in mood that so other suggest  \n",
       "\n",
       "[5572 rows x 4 columns]"
      ]
     },
     "execution_count": 20,
     "metadata": {},
     "output_type": "execute_result"
    }
   ],
   "source": [
    "email"
   ]
  },
  {
   "cell_type": "code",
   "execution_count": 21,
   "id": "0cf593d2",
   "metadata": {},
   "outputs": [],
   "source": [
    "#email.to_csv('Emails.csv', encoding='utf-8')"
   ]
  },
  {
   "cell_type": "code",
   "execution_count": 22,
   "id": "75297d5b",
   "metadata": {},
   "outputs": [],
   "source": [
    "my_data = pd.read_csv('MYEmails.csv')"
   ]
  },
  {
   "cell_type": "code",
   "execution_count": 23,
   "id": "35f4af38",
   "metadata": {},
   "outputs": [
    {
     "data": {
      "text/html": [
       "<div>\n",
       "<style scoped>\n",
       "    .dataframe tbody tr th:only-of-type {\n",
       "        vertical-align: middle;\n",
       "    }\n",
       "\n",
       "    .dataframe tbody tr th {\n",
       "        vertical-align: top;\n",
       "    }\n",
       "\n",
       "    .dataframe thead th {\n",
       "        text-align: right;\n",
       "    }\n",
       "</style>\n",
       "<table border=\"1\" class=\"dataframe\">\n",
       "  <thead>\n",
       "    <tr style=\"text-align: right;\">\n",
       "      <th></th>\n",
       "      <th>Unnamed: 0</th>\n",
       "      <th>Category</th>\n",
       "      <th>Message</th>\n",
       "      <th>category</th>\n",
       "      <th>my_texed</th>\n",
       "    </tr>\n",
       "  </thead>\n",
       "  <tbody>\n",
       "    <tr>\n",
       "      <th>0</th>\n",
       "      <td>0</td>\n",
       "      <td>ham</td>\n",
       "      <td>Go until jurong point, crazy.. Available only ...</td>\n",
       "      <td>1</td>\n",
       "      <td>go jurong point crazi avail in bugi n great wo...</td>\n",
       "    </tr>\n",
       "    <tr>\n",
       "      <th>1</th>\n",
       "      <td>1</td>\n",
       "      <td>ham</td>\n",
       "      <td>Ok lar... Joking wif u oni...</td>\n",
       "      <td>1</td>\n",
       "      <td>ok lar joke wif u oni</td>\n",
       "    </tr>\n",
       "    <tr>\n",
       "      <th>2</th>\n",
       "      <td>2</td>\n",
       "      <td>spam</td>\n",
       "      <td>Free entry in 2 a wkly comp to win FA Cup fina...</td>\n",
       "      <td>0</td>\n",
       "      <td>free entri 2 wkli comp win fa cup final tkt 21...</td>\n",
       "    </tr>\n",
       "    <tr>\n",
       "      <th>3</th>\n",
       "      <td>3</td>\n",
       "      <td>ham</td>\n",
       "      <td>U dun say so early hor... U c already then say...</td>\n",
       "      <td>1</td>\n",
       "      <td>u dun say earli hor u c alreadi say</td>\n",
       "    </tr>\n",
       "    <tr>\n",
       "      <th>4</th>\n",
       "      <td>4</td>\n",
       "      <td>ham</td>\n",
       "      <td>Nah I don't think he goes to usf, he lives aro...</td>\n",
       "      <td>1</td>\n",
       "      <td>nah i think goe usf live around though</td>\n",
       "    </tr>\n",
       "    <tr>\n",
       "      <th>...</th>\n",
       "      <td>...</td>\n",
       "      <td>...</td>\n",
       "      <td>...</td>\n",
       "      <td>...</td>\n",
       "      <td>...</td>\n",
       "    </tr>\n",
       "    <tr>\n",
       "      <th>5563</th>\n",
       "      <td>5565</td>\n",
       "      <td>ham</td>\n",
       "      <td>Huh y lei...</td>\n",
       "      <td>1</td>\n",
       "      <td>huh lei</td>\n",
       "    </tr>\n",
       "    <tr>\n",
       "      <th>5564</th>\n",
       "      <td>5566</td>\n",
       "      <td>spam</td>\n",
       "      <td>REMINDER FROM O2: To get 2.50 pounds free call...</td>\n",
       "      <td>0</td>\n",
       "      <td>remind from o2 to get pound free call credit d...</td>\n",
       "    </tr>\n",
       "    <tr>\n",
       "      <th>5565</th>\n",
       "      <td>5567</td>\n",
       "      <td>spam</td>\n",
       "      <td>This is the 2nd time we have tried 2 contact u...</td>\n",
       "      <td>0</td>\n",
       "      <td>thi 2nd time tri 2 contact u have won the poun...</td>\n",
       "    </tr>\n",
       "    <tr>\n",
       "      <th>5566</th>\n",
       "      <td>5568</td>\n",
       "      <td>ham</td>\n",
       "      <td>Will ü b going to esplanade fr home?</td>\n",
       "      <td>1</td>\n",
       "      <td>will ü b go esplanad fr home</td>\n",
       "    </tr>\n",
       "    <tr>\n",
       "      <th>5567</th>\n",
       "      <td>5569</td>\n",
       "      <td>ham</td>\n",
       "      <td>Pity, * was in mood for that. So...any other s...</td>\n",
       "      <td>1</td>\n",
       "      <td>piti * in mood that so other suggest</td>\n",
       "    </tr>\n",
       "  </tbody>\n",
       "</table>\n",
       "<p>5568 rows × 5 columns</p>\n",
       "</div>"
      ],
      "text/plain": [
       "      Unnamed: 0 Category                                            Message  \\\n",
       "0              0      ham  Go until jurong point, crazy.. Available only ...   \n",
       "1              1      ham                      Ok lar... Joking wif u oni...   \n",
       "2              2     spam  Free entry in 2 a wkly comp to win FA Cup fina...   \n",
       "3              3      ham  U dun say so early hor... U c already then say...   \n",
       "4              4      ham  Nah I don't think he goes to usf, he lives aro...   \n",
       "...          ...      ...                                                ...   \n",
       "5563        5565      ham                                       Huh y lei...   \n",
       "5564        5566     spam  REMINDER FROM O2: To get 2.50 pounds free call...   \n",
       "5565        5567     spam  This is the 2nd time we have tried 2 contact u...   \n",
       "5566        5568      ham               Will ü b going to esplanade fr home?   \n",
       "5567        5569      ham  Pity, * was in mood for that. So...any other s...   \n",
       "\n",
       "      category                                           my_texed  \n",
       "0            1  go jurong point crazi avail in bugi n great wo...  \n",
       "1            1                              ok lar joke wif u oni  \n",
       "2            0  free entri 2 wkli comp win fa cup final tkt 21...  \n",
       "3            1                u dun say earli hor u c alreadi say  \n",
       "4            1             nah i think goe usf live around though  \n",
       "...        ...                                                ...  \n",
       "5563         1                                            huh lei  \n",
       "5564         0  remind from o2 to get pound free call credit d...  \n",
       "5565         0  thi 2nd time tri 2 contact u have won the poun...  \n",
       "5566         1                       will ü b go esplanad fr home  \n",
       "5567         1               piti * in mood that so other suggest  \n",
       "\n",
       "[5568 rows x 5 columns]"
      ]
     },
     "execution_count": 23,
     "metadata": {},
     "output_type": "execute_result"
    }
   ],
   "source": [
    "my_data"
   ]
  },
  {
   "cell_type": "code",
   "execution_count": 24,
   "id": "ff171bd5",
   "metadata": {},
   "outputs": [],
   "source": [
    "from sklearn.ensemble import RandomForestClassifier\n",
    "from sklearn.svm import SVC\n",
    "from sklearn.model_selection import train_test_split\n",
    "from sklearn.naive_bayes import MultinomialNB\n",
    "from sklearn.naive_bayes import GaussianNB\n",
    "from sklearn.model_selection import cross_val_score\n",
    "from sklearn.feature_extraction.text import TfidfVectorizer"
   ]
  },
  {
   "cell_type": "code",
   "execution_count": 25,
   "id": "d6fd8d02",
   "metadata": {},
   "outputs": [],
   "source": [
    "X = my_data['my_texed'] \n",
    "y = my_data['category'] "
   ]
  },
  {
   "cell_type": "code",
   "execution_count": 26,
   "id": "3ce6e806",
   "metadata": {},
   "outputs": [],
   "source": [
    "vector = TfidfVectorizer(max_features=3500)\n",
    "#X.isnull.sum()\n",
    "# my_data[my_data['my_texed'].isnull()]\n",
    "X = vector.fit_transform(X)"
   ]
  },
  {
   "cell_type": "code",
   "execution_count": 27,
   "id": "c1e347c2",
   "metadata": {},
   "outputs": [],
   "source": [
    "model = SVC(kernel = 'linear')"
   ]
  },
  {
   "cell_type": "code",
   "execution_count": 28,
   "id": "596f131c",
   "metadata": {},
   "outputs": [],
   "source": [
    "X_train, X_test, y_train, y_test = train_test_split(X, y, test_size=0.1)"
   ]
  },
  {
   "cell_type": "code",
   "execution_count": 29,
   "id": "292e17bd",
   "metadata": {},
   "outputs": [
    {
     "data": {
      "text/plain": [
       "SVC(kernel='linear')"
      ]
     },
     "execution_count": 29,
     "metadata": {},
     "output_type": "execute_result"
    }
   ],
   "source": [
    "#from sklearn.naive_bayes import BernoulliNB\n",
    "#model = BernoulliNB()\n",
    "X_train, X_test, y_train, y_test = train_test_split(X, y, test_size=0.1)\n",
    "model.fit(X_train, y_train)"
   ]
  },
  {
   "cell_type": "code",
   "execution_count": 30,
   "id": "217fb9db",
   "metadata": {},
   "outputs": [
    {
     "data": {
      "text/plain": [
       "98.92280071813285"
      ]
     },
     "execution_count": 30,
     "metadata": {},
     "output_type": "execute_result"
    }
   ],
   "source": [
    "model.score(X_test, y_test)*100"
   ]
  },
  {
   "cell_type": "code",
   "execution_count": 31,
   "id": "6ad12c0e",
   "metadata": {},
   "outputs": [
    {
     "data": {
      "text/plain": [
       "98.7878787878788"
      ]
     },
     "execution_count": 31,
     "metadata": {},
     "output_type": "execute_result"
    }
   ],
   "source": [
    "from sklearn.metrics import precision_score\n",
    "y_pred = model.predict(X_test)\n",
    "precision_score(y_test, y_pred)*100"
   ]
  },
  {
   "cell_type": "code",
   "execution_count": 32,
   "id": "fdfde57d",
   "metadata": {},
   "outputs": [
    {
     "data": {
      "text/plain": [
       "1.0771992818671454"
      ]
     },
     "execution_count": 32,
     "metadata": {},
     "output_type": "execute_result"
    }
   ],
   "source": [
    "from sklearn.metrics import mean_squared_error\n",
    "mean_squared_error(y_test, y_pred)*100"
   ]
  },
  {
   "cell_type": "code",
   "execution_count": 33,
   "id": "09681e5b",
   "metadata": {},
   "outputs": [
    {
     "name": "stdout",
     "output_type": "stream",
     "text": [
      "ENTER YOUR EMAIL : is this your laptop\n"
     ]
    }
   ],
   "source": [
    "you = input('ENTER YOUR EMAIL : ')\n",
    "waste = []\n",
    "youlist = word_tokenize(you)\n",
    "for i in youlist:\n",
    "    if i in stops or i in punct:\n",
    "        youlist.remove(i)\n",
    "        waste.append(i)\n",
    "for i,j in enumerate(youlist):\n",
    "    youlist[i] = ps.stem(j)\n",
    "    \n",
    "final_msg = [' '.join(youlist)]"
   ]
  },
  {
   "cell_type": "code",
   "execution_count": 34,
   "id": "6c095ed5",
   "metadata": {},
   "outputs": [],
   "source": [
    "Final_MSG = vector.transform(final_msg)"
   ]
  },
  {
   "cell_type": "code",
   "execution_count": 35,
   "id": "3d86d3df",
   "metadata": {},
   "outputs": [],
   "source": [
    "Predict = model.predict(Final_MSG)"
   ]
  },
  {
   "cell_type": "code",
   "execution_count": 36,
   "id": "548c1688",
   "metadata": {},
   "outputs": [
    {
     "data": {
      "text/plain": [
       "'HAM'"
      ]
     },
     "execution_count": 36,
     "metadata": {},
     "output_type": "execute_result"
    }
   ],
   "source": [
    "def output():\n",
    "    if Predict == 1:\n",
    "        return 'HAM'\n",
    "    else:\n",
    "        return 'SPAM'\n",
    "output()"
   ]
  },
  {
   "cell_type": "code",
   "execution_count": 37,
   "id": "5e9e0b2b",
   "metadata": {},
   "outputs": [],
   "source": [
    "# import pickle\n",
    "# with open('EmailModel.pkl', 'wb') as pic:\n",
    "#     pickle.dump(model, pic)\n",
    "# with open('TfidfEmail.pkl', 'wb') as vec:\n",
    "#     pickle.dump(vector, vec)"
   ]
  },
  {
   "cell_type": "code",
   "execution_count": null,
   "id": "993379b5",
   "metadata": {},
   "outputs": [],
   "source": []
  }
 ],
 "metadata": {
  "kernelspec": {
   "display_name": "Python 3 (ipykernel)",
   "language": "python",
   "name": "python3"
  },
  "language_info": {
   "codemirror_mode": {
    "name": "ipython",
    "version": 3
   },
   "file_extension": ".py",
   "mimetype": "text/x-python",
   "name": "python",
   "nbconvert_exporter": "python",
   "pygments_lexer": "ipython3",
   "version": "3.10.1"
  }
 },
 "nbformat": 4,
 "nbformat_minor": 5
}
