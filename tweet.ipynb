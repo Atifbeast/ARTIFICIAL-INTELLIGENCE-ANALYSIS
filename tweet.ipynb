{
 "cells": [
  {
   "cell_type": "code",
   "execution_count": 1,
   "id": "daca6af6",
   "metadata": {},
   "outputs": [],
   "source": [
    "import nltk\n",
    "import pandas as pd\n",
    "from nltk.corpus import stopwords\n",
    "import pandas as pd\n",
    "import numpy as np\n",
    "from nltk import sent_tokenize, word_tokenize\n",
    "from nltk.tokenize import TweetTokenizer\n",
    "from nltk.stem import PorterStemmer\n",
    "from nltk.stem.wordnet import WordNetLemmatizer "
   ]
  },
  {
   "cell_type": "code",
   "execution_count": 2,
   "id": "3511fb93",
   "metadata": {},
   "outputs": [],
   "source": [
    "# tweets = pd.read_csv(\"C:\\\\Users\\\\ATIF SHAIK\\\\OneDrive\\\\Documents\\\\train.csv\")"
   ]
  },
  {
   "cell_type": "code",
   "execution_count": 3,
   "id": "f2829e43",
   "metadata": {},
   "outputs": [],
   "source": [
    "tweet = pd.read_csv(\"C:\\\\Users\\\\ATIF SHAIK\\\\OneDrive\\\\Documents\\\\Tweets.csv\") "
   ]
  },
  {
   "cell_type": "code",
   "execution_count": 4,
   "id": "921bb6d6",
   "metadata": {},
   "outputs": [
    {
     "data": {
      "text/html": [
       "<div>\n",
       "<style scoped>\n",
       "    .dataframe tbody tr th:only-of-type {\n",
       "        vertical-align: middle;\n",
       "    }\n",
       "\n",
       "    .dataframe tbody tr th {\n",
       "        vertical-align: top;\n",
       "    }\n",
       "\n",
       "    .dataframe thead th {\n",
       "        text-align: right;\n",
       "    }\n",
       "</style>\n",
       "<table border=\"1\" class=\"dataframe\">\n",
       "  <thead>\n",
       "    <tr style=\"text-align: right;\">\n",
       "      <th></th>\n",
       "      <th>textID</th>\n",
       "      <th>text</th>\n",
       "      <th>selected_text</th>\n",
       "      <th>sentiment</th>\n",
       "    </tr>\n",
       "  </thead>\n",
       "  <tbody>\n",
       "    <tr>\n",
       "      <th>0</th>\n",
       "      <td>cb774db0d1</td>\n",
       "      <td>I`d have responded, if I were going</td>\n",
       "      <td>I`d have responded, if I were going</td>\n",
       "      <td>neutral</td>\n",
       "    </tr>\n",
       "    <tr>\n",
       "      <th>1</th>\n",
       "      <td>549e992a42</td>\n",
       "      <td>Sooo SAD I will miss you here in San Diego!!!</td>\n",
       "      <td>Sooo SAD</td>\n",
       "      <td>negative</td>\n",
       "    </tr>\n",
       "    <tr>\n",
       "      <th>2</th>\n",
       "      <td>088c60f138</td>\n",
       "      <td>my boss is bullying me...</td>\n",
       "      <td>bullying me</td>\n",
       "      <td>negative</td>\n",
       "    </tr>\n",
       "    <tr>\n",
       "      <th>3</th>\n",
       "      <td>9642c003ef</td>\n",
       "      <td>what interview! leave me alone</td>\n",
       "      <td>leave me alone</td>\n",
       "      <td>negative</td>\n",
       "    </tr>\n",
       "    <tr>\n",
       "      <th>4</th>\n",
       "      <td>358bd9e861</td>\n",
       "      <td>Sons of ****, why couldn`t they put them on t...</td>\n",
       "      <td>Sons of ****,</td>\n",
       "      <td>negative</td>\n",
       "    </tr>\n",
       "  </tbody>\n",
       "</table>\n",
       "</div>"
      ],
      "text/plain": [
       "       textID                                               text  \\\n",
       "0  cb774db0d1                I`d have responded, if I were going   \n",
       "1  549e992a42      Sooo SAD I will miss you here in San Diego!!!   \n",
       "2  088c60f138                          my boss is bullying me...   \n",
       "3  9642c003ef                     what interview! leave me alone   \n",
       "4  358bd9e861   Sons of ****, why couldn`t they put them on t...   \n",
       "\n",
       "                         selected_text sentiment  \n",
       "0  I`d have responded, if I were going   neutral  \n",
       "1                             Sooo SAD  negative  \n",
       "2                          bullying me  negative  \n",
       "3                       leave me alone  negative  \n",
       "4                        Sons of ****,  negative  "
      ]
     },
     "execution_count": 4,
     "metadata": {},
     "output_type": "execute_result"
    }
   ],
   "source": [
    "tweet.head()"
   ]
  },
  {
   "cell_type": "code",
   "execution_count": 5,
   "id": "0b8cef1f",
   "metadata": {},
   "outputs": [],
   "source": [
    "tweet.drop(tweet.index[tweet['sentiment'] == 'neutral'], inplace = True)"
   ]
  },
  {
   "cell_type": "code",
   "execution_count": 6,
   "id": "933b1c6e",
   "metadata": {},
   "outputs": [
    {
     "data": {
      "text/plain": [
       "positive    8582\n",
       "negative    7781\n",
       "Name: sentiment, dtype: int64"
      ]
     },
     "execution_count": 6,
     "metadata": {},
     "output_type": "execute_result"
    }
   ],
   "source": [
    "tweet['sentiment'].value_counts()"
   ]
  },
  {
   "cell_type": "code",
   "execution_count": 7,
   "id": "d831a226",
   "metadata": {},
   "outputs": [
    {
     "data": {
      "text/html": [
       "<div>\n",
       "<style scoped>\n",
       "    .dataframe tbody tr th:only-of-type {\n",
       "        vertical-align: middle;\n",
       "    }\n",
       "\n",
       "    .dataframe tbody tr th {\n",
       "        vertical-align: top;\n",
       "    }\n",
       "\n",
       "    .dataframe thead th {\n",
       "        text-align: right;\n",
       "    }\n",
       "</style>\n",
       "<table border=\"1\" class=\"dataframe\">\n",
       "  <thead>\n",
       "    <tr style=\"text-align: right;\">\n",
       "      <th></th>\n",
       "      <th>textID</th>\n",
       "      <th>text</th>\n",
       "      <th>selected_text</th>\n",
       "      <th>sentiment</th>\n",
       "    </tr>\n",
       "  </thead>\n",
       "  <tbody>\n",
       "    <tr>\n",
       "      <th>1</th>\n",
       "      <td>549e992a42</td>\n",
       "      <td>Sooo SAD I will miss you here in San Diego!!!</td>\n",
       "      <td>Sooo SAD</td>\n",
       "      <td>negative</td>\n",
       "    </tr>\n",
       "    <tr>\n",
       "      <th>2</th>\n",
       "      <td>088c60f138</td>\n",
       "      <td>my boss is bullying me...</td>\n",
       "      <td>bullying me</td>\n",
       "      <td>negative</td>\n",
       "    </tr>\n",
       "    <tr>\n",
       "      <th>3</th>\n",
       "      <td>9642c003ef</td>\n",
       "      <td>what interview! leave me alone</td>\n",
       "      <td>leave me alone</td>\n",
       "      <td>negative</td>\n",
       "    </tr>\n",
       "    <tr>\n",
       "      <th>4</th>\n",
       "      <td>358bd9e861</td>\n",
       "      <td>Sons of ****, why couldn`t they put them on t...</td>\n",
       "      <td>Sons of ****,</td>\n",
       "      <td>negative</td>\n",
       "    </tr>\n",
       "    <tr>\n",
       "      <th>6</th>\n",
       "      <td>6e0c6d75b1</td>\n",
       "      <td>2am feedings for the baby are fun when he is a...</td>\n",
       "      <td>fun</td>\n",
       "      <td>positive</td>\n",
       "    </tr>\n",
       "    <tr>\n",
       "      <th>...</th>\n",
       "      <td>...</td>\n",
       "      <td>...</td>\n",
       "      <td>...</td>\n",
       "      <td>...</td>\n",
       "    </tr>\n",
       "    <tr>\n",
       "      <th>27475</th>\n",
       "      <td>b78ec00df5</td>\n",
       "      <td>enjoy ur night</td>\n",
       "      <td>enjoy</td>\n",
       "      <td>positive</td>\n",
       "    </tr>\n",
       "    <tr>\n",
       "      <th>27476</th>\n",
       "      <td>4eac33d1c0</td>\n",
       "      <td>wish we could come see u on Denver  husband l...</td>\n",
       "      <td>d lost</td>\n",
       "      <td>negative</td>\n",
       "    </tr>\n",
       "    <tr>\n",
       "      <th>27477</th>\n",
       "      <td>4f4c4fc327</td>\n",
       "      <td>I`ve wondered about rake to.  The client has ...</td>\n",
       "      <td>, don`t force</td>\n",
       "      <td>negative</td>\n",
       "    </tr>\n",
       "    <tr>\n",
       "      <th>27478</th>\n",
       "      <td>f67aae2310</td>\n",
       "      <td>Yay good for both of you. Enjoy the break - y...</td>\n",
       "      <td>Yay good for both of you.</td>\n",
       "      <td>positive</td>\n",
       "    </tr>\n",
       "    <tr>\n",
       "      <th>27479</th>\n",
       "      <td>ed167662a5</td>\n",
       "      <td>But it was worth it  ****.</td>\n",
       "      <td>But it was worth it  ****.</td>\n",
       "      <td>positive</td>\n",
       "    </tr>\n",
       "  </tbody>\n",
       "</table>\n",
       "<p>16363 rows × 4 columns</p>\n",
       "</div>"
      ],
      "text/plain": [
       "           textID                                               text  \\\n",
       "1      549e992a42      Sooo SAD I will miss you here in San Diego!!!   \n",
       "2      088c60f138                          my boss is bullying me...   \n",
       "3      9642c003ef                     what interview! leave me alone   \n",
       "4      358bd9e861   Sons of ****, why couldn`t they put them on t...   \n",
       "6      6e0c6d75b1  2am feedings for the baby are fun when he is a...   \n",
       "...           ...                                                ...   \n",
       "27475  b78ec00df5                                     enjoy ur night   \n",
       "27476  4eac33d1c0   wish we could come see u on Denver  husband l...   \n",
       "27477  4f4c4fc327   I`ve wondered about rake to.  The client has ...   \n",
       "27478  f67aae2310   Yay good for both of you. Enjoy the break - y...   \n",
       "27479  ed167662a5                         But it was worth it  ****.   \n",
       "\n",
       "                    selected_text sentiment  \n",
       "1                        Sooo SAD  negative  \n",
       "2                     bullying me  negative  \n",
       "3                  leave me alone  negative  \n",
       "4                   Sons of ****,  negative  \n",
       "6                             fun  positive  \n",
       "...                           ...       ...  \n",
       "27475                       enjoy  positive  \n",
       "27476                      d lost  negative  \n",
       "27477               , don`t force  negative  \n",
       "27478   Yay good for both of you.  positive  \n",
       "27479  But it was worth it  ****.  positive  \n",
       "\n",
       "[16363 rows x 4 columns]"
      ]
     },
     "execution_count": 7,
     "metadata": {},
     "output_type": "execute_result"
    }
   ],
   "source": [
    "tweet "
   ]
  },
  {
   "cell_type": "code",
   "execution_count": 8,
   "id": "bd9acf81",
   "metadata": {},
   "outputs": [],
   "source": [
    "# tweet['label'].value_counts()"
   ]
  },
  {
   "cell_type": "code",
   "execution_count": 9,
   "id": "2ab825a9",
   "metadata": {},
   "outputs": [
    {
     "data": {
      "text/plain": [
       "textID           0\n",
       "text             0\n",
       "selected_text    0\n",
       "sentiment        0\n",
       "dtype: int64"
      ]
     },
     "execution_count": 9,
     "metadata": {},
     "output_type": "execute_result"
    }
   ],
   "source": [
    "tweet.isnull().sum()"
   ]
  },
  {
   "cell_type": "code",
   "execution_count": 10,
   "id": "53b0da0a",
   "metadata": {},
   "outputs": [
    {
     "data": {
      "text/plain": [
       "0"
      ]
     },
     "execution_count": 10,
     "metadata": {},
     "output_type": "execute_result"
    }
   ],
   "source": [
    "tweet.duplicated().sum()"
   ]
  },
  {
   "cell_type": "code",
   "execution_count": 11,
   "id": "30554d9a",
   "metadata": {},
   "outputs": [
    {
     "name": "stdout",
     "output_type": "stream",
     "text": [
      " Sooo SAD I will miss you here in San Diego!!!\n",
      "my boss is bullying me...\n"
     ]
    }
   ],
   "source": [
    "print(tweet.iloc[0].text)\n",
    "print(tweet.iloc[1].text)"
   ]
  },
  {
   "cell_type": "code",
   "execution_count": 12,
   "id": "6f142993",
   "metadata": {},
   "outputs": [],
   "source": [
    "import string\n",
    "punct = string.punctuation\n",
    "punct = list(punct)\n",
    "stops = stopwords.words('english')\n",
    "tokenizer = TweetTokenizer()"
   ]
  },
  {
   "cell_type": "code",
   "execution_count": 13,
   "id": "e72c5463",
   "metadata": {},
   "outputs": [],
   "source": [
    "punch = []\n",
    "st = []\n",
    "def clean(n):\n",
    "    n = tokenizer.tokenize(n)\n",
    "    for i in n:\n",
    "        if i in punct:\n",
    "            punch.append(i)\n",
    "            n.remove(i)\n",
    "    for j in n:\n",
    "        if j in stops:\n",
    "            st.append(j)\n",
    "            n.remove(j)\n",
    "            \n",
    "    return n"
   ]
  },
  {
   "cell_type": "code",
   "execution_count": 14,
   "id": "b81380db",
   "metadata": {},
   "outputs": [],
   "source": [
    "tweet['text'] = tweet['text'].apply(clean)"
   ]
  },
  {
   "cell_type": "code",
   "execution_count": 15,
   "id": "74f3935c",
   "metadata": {},
   "outputs": [],
   "source": [
    "lemmatizer = WordNetLemmatizer()\n",
    "ps = PorterStemmer()"
   ]
  },
  {
   "cell_type": "code",
   "execution_count": 16,
   "id": "6af985d4",
   "metadata": {},
   "outputs": [],
   "source": [
    "def lem(a):\n",
    "    for i,j in enumerate(a):\n",
    "        a[i] = lemmatizer.lemmatize(j, pos='a')\n",
    "        \n",
    "    return a\n",
    "        \n",
    "tweet['text'] = tweet['text'].apply(lem)"
   ]
  },
  {
   "cell_type": "code",
   "execution_count": 17,
   "id": "2e4b1505",
   "metadata": {},
   "outputs": [
    {
     "data": {
      "text/html": [
       "<div>\n",
       "<style scoped>\n",
       "    .dataframe tbody tr th:only-of-type {\n",
       "        vertical-align: middle;\n",
       "    }\n",
       "\n",
       "    .dataframe tbody tr th {\n",
       "        vertical-align: top;\n",
       "    }\n",
       "\n",
       "    .dataframe thead th {\n",
       "        text-align: right;\n",
       "    }\n",
       "</style>\n",
       "<table border=\"1\" class=\"dataframe\">\n",
       "  <thead>\n",
       "    <tr style=\"text-align: right;\">\n",
       "      <th></th>\n",
       "      <th>textID</th>\n",
       "      <th>text</th>\n",
       "      <th>selected_text</th>\n",
       "      <th>sentiment</th>\n",
       "    </tr>\n",
       "  </thead>\n",
       "  <tbody>\n",
       "    <tr>\n",
       "      <th>1</th>\n",
       "      <td>549e992a42</td>\n",
       "      <td>[Sooo, SAD, I, miss, here, San, Diego, !]</td>\n",
       "      <td>Sooo SAD</td>\n",
       "      <td>negative</td>\n",
       "    </tr>\n",
       "    <tr>\n",
       "      <th>2</th>\n",
       "      <td>088c60f138</td>\n",
       "      <td>[boss, bullying, ...]</td>\n",
       "      <td>bullying me</td>\n",
       "      <td>negative</td>\n",
       "    </tr>\n",
       "    <tr>\n",
       "      <th>3</th>\n",
       "      <td>9642c003ef</td>\n",
       "      <td>[interview, leave, alone]</td>\n",
       "      <td>leave me alone</td>\n",
       "      <td>negative</td>\n",
       "    </tr>\n",
       "    <tr>\n",
       "      <th>4</th>\n",
       "      <td>358bd9e861</td>\n",
       "      <td>[Sons, *, ,, couldn, they, put, on, releases, ...</td>\n",
       "      <td>Sons of ****,</td>\n",
       "      <td>negative</td>\n",
       "    </tr>\n",
       "    <tr>\n",
       "      <th>6</th>\n",
       "      <td>6e0c6d75b1</td>\n",
       "      <td>[2am, feedings, the, baby, fun, he, all, smile...</td>\n",
       "      <td>fun</td>\n",
       "      <td>positive</td>\n",
       "    </tr>\n",
       "    <tr>\n",
       "      <th>9</th>\n",
       "      <td>fc2cbefa9d</td>\n",
       "      <td>[Journey, ?, Wow, ..., u, became, cool, hehe, ...</td>\n",
       "      <td>Wow... u just became cooler.</td>\n",
       "      <td>positive</td>\n",
       "    </tr>\n",
       "    <tr>\n",
       "      <th>11</th>\n",
       "      <td>16fab9f95b</td>\n",
       "      <td>[I, really, really, like, song, Love, Story, T...</td>\n",
       "      <td>like</td>\n",
       "      <td>positive</td>\n",
       "    </tr>\n",
       "    <tr>\n",
       "      <th>12</th>\n",
       "      <td>74a76f6e0a</td>\n",
       "      <td>[My, Sharpie, running, DANGERously, low, ink]</td>\n",
       "      <td>DANGERously</td>\n",
       "      <td>negative</td>\n",
       "    </tr>\n",
       "  </tbody>\n",
       "</table>\n",
       "</div>"
      ],
      "text/plain": [
       "        textID                                               text  \\\n",
       "1   549e992a42          [Sooo, SAD, I, miss, here, San, Diego, !]   \n",
       "2   088c60f138                              [boss, bullying, ...]   \n",
       "3   9642c003ef                          [interview, leave, alone]   \n",
       "4   358bd9e861  [Sons, *, ,, couldn, they, put, on, releases, ...   \n",
       "6   6e0c6d75b1  [2am, feedings, the, baby, fun, he, all, smile...   \n",
       "9   fc2cbefa9d  [Journey, ?, Wow, ..., u, became, cool, hehe, ...   \n",
       "11  16fab9f95b  [I, really, really, like, song, Love, Story, T...   \n",
       "12  74a76f6e0a      [My, Sharpie, running, DANGERously, low, ink]   \n",
       "\n",
       "                   selected_text sentiment  \n",
       "1                       Sooo SAD  negative  \n",
       "2                    bullying me  negative  \n",
       "3                 leave me alone  negative  \n",
       "4                  Sons of ****,  negative  \n",
       "6                            fun  positive  \n",
       "9   Wow... u just became cooler.  positive  \n",
       "11                          like  positive  \n",
       "12                   DANGERously  negative  "
      ]
     },
     "execution_count": 17,
     "metadata": {},
     "output_type": "execute_result"
    }
   ],
   "source": [
    "tweet.head(8)"
   ]
  },
  {
   "cell_type": "code",
   "execution_count": 18,
   "id": "b7099040",
   "metadata": {},
   "outputs": [],
   "source": [
    "def stem(n):\n",
    "    for i,j in enumerate(n):\n",
    "        n[i] = ps.stem(j)\n",
    "        \n",
    "    return n\n",
    "tweet['text'] = tweet['text'].apply(stem)"
   ]
  },
  {
   "cell_type": "code",
   "execution_count": 19,
   "id": "2c9f9aec",
   "metadata": {},
   "outputs": [],
   "source": [
    "def lower(n):\n",
    "    for i in n:\n",
    "        i = i.lower()\n",
    "    return n\n",
    "tweet['text'] = tweet['text'].apply(lower)"
   ]
  },
  {
   "cell_type": "code",
   "execution_count": 20,
   "id": "e9063888",
   "metadata": {},
   "outputs": [],
   "source": [
    "def join(n):\n",
    "    return ' '.join(n)\n",
    "tweet['text'] = tweet['text'].apply(join)"
   ]
  },
  {
   "cell_type": "code",
   "execution_count": 21,
   "id": "bec30de2",
   "metadata": {},
   "outputs": [
    {
     "data": {
      "text/html": [
       "<div>\n",
       "<style scoped>\n",
       "    .dataframe tbody tr th:only-of-type {\n",
       "        vertical-align: middle;\n",
       "    }\n",
       "\n",
       "    .dataframe tbody tr th {\n",
       "        vertical-align: top;\n",
       "    }\n",
       "\n",
       "    .dataframe thead th {\n",
       "        text-align: right;\n",
       "    }\n",
       "</style>\n",
       "<table border=\"1\" class=\"dataframe\">\n",
       "  <thead>\n",
       "    <tr style=\"text-align: right;\">\n",
       "      <th></th>\n",
       "      <th>textID</th>\n",
       "      <th>text</th>\n",
       "      <th>selected_text</th>\n",
       "      <th>sentiment</th>\n",
       "    </tr>\n",
       "  </thead>\n",
       "  <tbody>\n",
       "    <tr>\n",
       "      <th>1</th>\n",
       "      <td>549e992a42</td>\n",
       "      <td>sooo sad i miss here san diego !</td>\n",
       "      <td>Sooo SAD</td>\n",
       "      <td>negative</td>\n",
       "    </tr>\n",
       "    <tr>\n",
       "      <th>2</th>\n",
       "      <td>088c60f138</td>\n",
       "      <td>boss bulli ...</td>\n",
       "      <td>bullying me</td>\n",
       "      <td>negative</td>\n",
       "    </tr>\n",
       "    <tr>\n",
       "      <th>3</th>\n",
       "      <td>9642c003ef</td>\n",
       "      <td>interview leav alon</td>\n",
       "      <td>leave me alone</td>\n",
       "      <td>negative</td>\n",
       "    </tr>\n",
       "    <tr>\n",
       "      <th>4</th>\n",
       "      <td>358bd9e861</td>\n",
       "      <td>son * , couldn they put on releas alreadi bought</td>\n",
       "      <td>Sons of ****,</td>\n",
       "      <td>negative</td>\n",
       "    </tr>\n",
       "    <tr>\n",
       "      <th>6</th>\n",
       "      <td>6e0c6d75b1</td>\n",
       "      <td>2am feed the babi fun he all smile coo</td>\n",
       "      <td>fun</td>\n",
       "      <td>positive</td>\n",
       "    </tr>\n",
       "    <tr>\n",
       "      <th>9</th>\n",
       "      <td>fc2cbefa9d</td>\n",
       "      <td>journey ? wow ... u becam cool hehe ... that p...</td>\n",
       "      <td>Wow... u just became cooler.</td>\n",
       "      <td>positive</td>\n",
       "    </tr>\n",
       "    <tr>\n",
       "      <th>11</th>\n",
       "      <td>16fab9f95b</td>\n",
       "      <td>i realli realli like song love stori taylor swift</td>\n",
       "      <td>like</td>\n",
       "      <td>positive</td>\n",
       "    </tr>\n",
       "    <tr>\n",
       "      <th>12</th>\n",
       "      <td>74a76f6e0a</td>\n",
       "      <td>my sharpi run danger low ink</td>\n",
       "      <td>DANGERously</td>\n",
       "      <td>negative</td>\n",
       "    </tr>\n",
       "  </tbody>\n",
       "</table>\n",
       "</div>"
      ],
      "text/plain": [
       "        textID                                               text  \\\n",
       "1   549e992a42                   sooo sad i miss here san diego !   \n",
       "2   088c60f138                                     boss bulli ...   \n",
       "3   9642c003ef                                interview leav alon   \n",
       "4   358bd9e861   son * , couldn they put on releas alreadi bought   \n",
       "6   6e0c6d75b1             2am feed the babi fun he all smile coo   \n",
       "9   fc2cbefa9d  journey ? wow ... u becam cool hehe ... that p...   \n",
       "11  16fab9f95b  i realli realli like song love stori taylor swift   \n",
       "12  74a76f6e0a                       my sharpi run danger low ink   \n",
       "\n",
       "                   selected_text sentiment  \n",
       "1                       Sooo SAD  negative  \n",
       "2                    bullying me  negative  \n",
       "3                 leave me alone  negative  \n",
       "4                  Sons of ****,  negative  \n",
       "6                            fun  positive  \n",
       "9   Wow... u just became cooler.  positive  \n",
       "11                          like  positive  \n",
       "12                   DANGERously  negative  "
      ]
     },
     "execution_count": 21,
     "metadata": {},
     "output_type": "execute_result"
    }
   ],
   "source": [
    "tweet.head(8)"
   ]
  },
  {
   "cell_type": "code",
   "execution_count": 22,
   "id": "2990a74e",
   "metadata": {},
   "outputs": [],
   "source": [
    "def senti(n):\n",
    "    if n=='positive':\n",
    "        return 1\n",
    "    elif n=='negative':\n",
    "        return 0\n",
    "tweet['Senti'] = tweet['sentiment'].apply(senti)"
   ]
  },
  {
   "cell_type": "code",
   "execution_count": 23,
   "id": "b9a0a383",
   "metadata": {},
   "outputs": [
    {
     "data": {
      "text/html": [
       "<div>\n",
       "<style scoped>\n",
       "    .dataframe tbody tr th:only-of-type {\n",
       "        vertical-align: middle;\n",
       "    }\n",
       "\n",
       "    .dataframe tbody tr th {\n",
       "        vertical-align: top;\n",
       "    }\n",
       "\n",
       "    .dataframe thead th {\n",
       "        text-align: right;\n",
       "    }\n",
       "</style>\n",
       "<table border=\"1\" class=\"dataframe\">\n",
       "  <thead>\n",
       "    <tr style=\"text-align: right;\">\n",
       "      <th></th>\n",
       "      <th>textID</th>\n",
       "      <th>text</th>\n",
       "      <th>selected_text</th>\n",
       "      <th>sentiment</th>\n",
       "      <th>Senti</th>\n",
       "    </tr>\n",
       "  </thead>\n",
       "  <tbody>\n",
       "    <tr>\n",
       "      <th>1</th>\n",
       "      <td>549e992a42</td>\n",
       "      <td>sooo sad i miss here san diego !</td>\n",
       "      <td>Sooo SAD</td>\n",
       "      <td>negative</td>\n",
       "      <td>0</td>\n",
       "    </tr>\n",
       "    <tr>\n",
       "      <th>2</th>\n",
       "      <td>088c60f138</td>\n",
       "      <td>boss bulli ...</td>\n",
       "      <td>bullying me</td>\n",
       "      <td>negative</td>\n",
       "      <td>0</td>\n",
       "    </tr>\n",
       "    <tr>\n",
       "      <th>3</th>\n",
       "      <td>9642c003ef</td>\n",
       "      <td>interview leav alon</td>\n",
       "      <td>leave me alone</td>\n",
       "      <td>negative</td>\n",
       "      <td>0</td>\n",
       "    </tr>\n",
       "    <tr>\n",
       "      <th>4</th>\n",
       "      <td>358bd9e861</td>\n",
       "      <td>son * , couldn they put on releas alreadi bought</td>\n",
       "      <td>Sons of ****,</td>\n",
       "      <td>negative</td>\n",
       "      <td>0</td>\n",
       "    </tr>\n",
       "    <tr>\n",
       "      <th>6</th>\n",
       "      <td>6e0c6d75b1</td>\n",
       "      <td>2am feed the babi fun he all smile coo</td>\n",
       "      <td>fun</td>\n",
       "      <td>positive</td>\n",
       "      <td>1</td>\n",
       "    </tr>\n",
       "    <tr>\n",
       "      <th>9</th>\n",
       "      <td>fc2cbefa9d</td>\n",
       "      <td>journey ? wow ... u becam cool hehe ... that p...</td>\n",
       "      <td>Wow... u just became cooler.</td>\n",
       "      <td>positive</td>\n",
       "      <td>1</td>\n",
       "    </tr>\n",
       "    <tr>\n",
       "      <th>11</th>\n",
       "      <td>16fab9f95b</td>\n",
       "      <td>i realli realli like song love stori taylor swift</td>\n",
       "      <td>like</td>\n",
       "      <td>positive</td>\n",
       "      <td>1</td>\n",
       "    </tr>\n",
       "    <tr>\n",
       "      <th>12</th>\n",
       "      <td>74a76f6e0a</td>\n",
       "      <td>my sharpi run danger low ink</td>\n",
       "      <td>DANGERously</td>\n",
       "      <td>negative</td>\n",
       "      <td>0</td>\n",
       "    </tr>\n",
       "    <tr>\n",
       "      <th>13</th>\n",
       "      <td>04dd1d2e34</td>\n",
       "      <td>want go music tonight i lost voic</td>\n",
       "      <td>lost</td>\n",
       "      <td>negative</td>\n",
       "      <td>0</td>\n",
       "    </tr>\n",
       "  </tbody>\n",
       "</table>\n",
       "</div>"
      ],
      "text/plain": [
       "        textID                                               text  \\\n",
       "1   549e992a42                   sooo sad i miss here san diego !   \n",
       "2   088c60f138                                     boss bulli ...   \n",
       "3   9642c003ef                                interview leav alon   \n",
       "4   358bd9e861   son * , couldn they put on releas alreadi bought   \n",
       "6   6e0c6d75b1             2am feed the babi fun he all smile coo   \n",
       "9   fc2cbefa9d  journey ? wow ... u becam cool hehe ... that p...   \n",
       "11  16fab9f95b  i realli realli like song love stori taylor swift   \n",
       "12  74a76f6e0a                       my sharpi run danger low ink   \n",
       "13  04dd1d2e34                  want go music tonight i lost voic   \n",
       "\n",
       "                   selected_text sentiment  Senti  \n",
       "1                       Sooo SAD  negative      0  \n",
       "2                    bullying me  negative      0  \n",
       "3                 leave me alone  negative      0  \n",
       "4                  Sons of ****,  negative      0  \n",
       "6                            fun  positive      1  \n",
       "9   Wow... u just became cooler.  positive      1  \n",
       "11                          like  positive      1  \n",
       "12                   DANGERously  negative      0  \n",
       "13                          lost  negative      0  "
      ]
     },
     "execution_count": 23,
     "metadata": {},
     "output_type": "execute_result"
    }
   ],
   "source": [
    "tweet.head(9)"
   ]
  },
  {
   "cell_type": "code",
   "execution_count": 24,
   "id": "8c2132e5",
   "metadata": {},
   "outputs": [],
   "source": [
    "X = tweet['text']\n",
    "y = tweet['Senti']"
   ]
  },
  {
   "cell_type": "code",
   "execution_count": 25,
   "id": "91e2c734",
   "metadata": {},
   "outputs": [],
   "source": [
    "from sklearn.feature_extraction.text import TfidfVectorizer, CountVectorizer\n",
    "tf = TfidfVectorizer(max_features=3000)\n",
    "cv = CountVectorizer(max_features=5000)"
   ]
  },
  {
   "cell_type": "code",
   "execution_count": 26,
   "id": "4fa4e19b",
   "metadata": {},
   "outputs": [],
   "source": [
    "X = tf.fit_transform(X)\n",
    "X = X.toarray() "
   ]
  },
  {
   "cell_type": "code",
   "execution_count": 27,
   "id": "fdc5619c",
   "metadata": {},
   "outputs": [],
   "source": [
    "from sklearn.ensemble import RandomForestClassifier\n",
    "from sklearn.svm import SVC\n",
    "from sklearn.naive_bayes import GaussianNB\n",
    "from sklearn.linear_model import LogisticRegression\n",
    "from sklearn.model_selection import train_test_split\n",
    "from sklearn.model_selection import cross_val_score\n",
    "tree = RandomForestClassifier(n_estimators=200)\n",
    "vector = SVC(kernel = 'linear')\n",
    "from sklearn.naive_bayes import MultinomialNB\n",
    "clf = MultinomialNB()\n",
    "gauss = GaussianNB()\n",
    "reg = LogisticRegression()"
   ]
  },
  {
   "cell_type": "code",
   "execution_count": 28,
   "id": "1c11bd55",
   "metadata": {},
   "outputs": [
    {
     "name": "stdout",
     "output_type": "stream",
     "text": [
      "[[0. 0. 0. ... 0. 0. 0.]\n",
      " [0. 0. 0. ... 0. 0. 0.]\n",
      " [0. 0. 0. ... 0. 0. 0.]\n",
      " ...\n",
      " [0. 0. 0. ... 0. 0. 0.]\n",
      " [0. 0. 0. ... 0. 0. 0.]\n",
      " [0. 0. 0. ... 0. 0. 0.]]\n"
     ]
    }
   ],
   "source": [
    "print(X)"
   ]
  },
  {
   "cell_type": "code",
   "execution_count": 29,
   "id": "80cd6607",
   "metadata": {},
   "outputs": [],
   "source": [
    "X_train, X_test, y_train, y_test = train_test_split(X, y, test_size=0.01) "
   ]
  },
  {
   "cell_type": "code",
   "execution_count": 30,
   "id": "9917aa04",
   "metadata": {},
   "outputs": [],
   "source": [
    "# gauss = () "
   ]
  },
  {
   "cell_type": "code",
   "execution_count": 31,
   "id": "2820ad14",
   "metadata": {
    "scrolled": true
   },
   "outputs": [
    {
     "data": {
      "text/plain": [
       "0.8902439024390244"
      ]
     },
     "execution_count": 31,
     "metadata": {},
     "output_type": "execute_result"
    }
   ],
   "source": [
    "clf.fit(X_train, y_train) \n",
    "clf.score(X_test, y_test) "
   ]
  },
  {
   "cell_type": "code",
   "execution_count": 32,
   "id": "8d8c418d",
   "metadata": {},
   "outputs": [],
   "source": [
    "# vector.fit(X_train, y_train) \n",
    "# vector.score(X_test, y_test) "
   ]
  },
  {
   "cell_type": "code",
   "execution_count": 33,
   "id": "a596cded",
   "metadata": {},
   "outputs": [],
   "source": [
    "# tree.fit(X_train, y_train) \n",
    "# tree.score(X_test, y_test) "
   ]
  },
  {
   "cell_type": "code",
   "execution_count": 143,
   "id": "195c8a3a",
   "metadata": {},
   "outputs": [],
   "source": [
    "text = \"The girl in the hair salon asked me 'Shall I trim your eyebrows!' How old do I feel?\" "
   ]
  },
  {
   "cell_type": "code",
   "execution_count": 144,
   "id": "31359f01",
   "metadata": {},
   "outputs": [
    {
     "data": {
      "text/plain": [
       "\"Positive\\ni don't know why my dad always comments on how much i'm eating because it makes me want to die\\ni'm tired of losing friends and people close to me cause of being suicidal\\ni want to kill my self\\ni'm in pain, wanna put ten shots in my brain i've been tripped by some things i can't change suicidal\\nNegative\\nin the uk the biggest killer for men is suicide. Good job\\nfeminists ignoring their issues a dear friend of mine committed suicide with a shotgun two years ago i don't say this lightly - hemingway's life ended by suicide. His life was actually a loss\\nthese r not ur problems dear!! these rur x bf's commitng suicide\\n\\n\""
      ]
     },
     "execution_count": 144,
     "metadata": {},
     "output_type": "execute_result"
    }
   ],
   "source": [
    "'''Positive\n",
    "i don't know why my dad always comments on how much i'm eating because it makes me want to die\n",
    "i'm tired of losing friends and people close to me cause of being suicidal\n",
    "i want to kill my self\n",
    "i'm in pain, wanna put ten shots in my brain i've been tripped by some things i can't change suicidal\n",
    "Negative\n",
    "in the uk the biggest killer for men is suicide. Good job\n",
    "feminists ignoring their issues a dear friend of mine committed suicide with a shotgun two years ago i don't say this lightly - hemingway's life ended by suicide. His life was actually a loss\n",
    "these r not ur problems dear!! these rur x bf's commitng suicide\n",
    "\n",
    "'''"
   ]
  },
  {
   "cell_type": "code",
   "execution_count": 145,
   "id": "481521d2",
   "metadata": {},
   "outputs": [
    {
     "name": "stdout",
     "output_type": "stream",
     "text": [
      "iam prob 0.4\n",
      "[[0.59612507 0.40387493]]\n",
      "Negative Tweet\n"
     ]
    }
   ],
   "source": [
    "random = []\n",
    "random2 = []\n",
    "# clean(word):\n",
    "n = tokenizer.tokenize(text)\n",
    "for i in n:\n",
    "    if i in punct:\n",
    "#         random.append(i)\n",
    "        n.remove(i)\n",
    "    else:\n",
    "        pass\n",
    "for j in n:\n",
    "    if j in stops:\n",
    "#         random.append(j)\n",
    "        n.remove(j)\n",
    "    else:\n",
    "        pass           \n",
    "# lemmatizing\n",
    "for i,j in enumerate(n):\n",
    "    n[i] = lemmatizer.lemmatize(j, pos='a')\n",
    "    \n",
    "for i,j in enumerate(n):\n",
    "    n[i] = ps.stem(j)\n",
    "    \n",
    "for i in n:\n",
    "        i = i.lower()\n",
    "    \n",
    "final = ' '.join(n)\n",
    "final = [final]\n",
    "final = tf.transform(final).toarray() \n",
    "ans = clf.predict(final)  \n",
    "l = [0.48, 0.49, 0.50, 0.51, 0.52, 0.53] \n",
    "prob = clf.predict_proba(final)\n",
    "prob = prob[0][1]\n",
    "f = \"{0:.2f}\" \n",
    "prob = f.format(prob) \n",
    "prob = float(prob)\n",
    "\n",
    "if prob in l: \n",
    "    print('Neutral Tweet') \n",
    "elif ans == 1:\n",
    "    print('Positive Tweet')\n",
    "elif ans == 0:\n",
    "    print('Negative Tweet')\n",
    "    "
   ]
  },
  {
   "cell_type": "code",
   "execution_count": 37,
   "id": "31112081",
   "metadata": {},
   "outputs": [],
   "source": [
    "# import pickle\n",
    "# # with open('Tweets.pkl', 'wb') as file:\n",
    "# #     pickle.dump(clf, file)\n",
    "# with open('TweetsTf.pkl', 'wb') as fille:\n",
    "#     pickle.dump(tf, fille)\n",
    "    "
   ]
  },
  {
   "cell_type": "code",
   "execution_count": 72,
   "id": "8f60d3a1",
   "metadata": {},
   "outputs": [
    {
     "data": {
      "text/plain": [
       "array([1, 1, 1, 1, 0], dtype=int64)"
      ]
     },
     "execution_count": 72,
     "metadata": {},
     "output_type": "execute_result"
    }
   ],
   "source": [
    "clf.predict(X_test[:5])"
   ]
  },
  {
   "cell_type": "code",
   "execution_count": 88,
   "id": "7686e668",
   "metadata": {},
   "outputs": [
    {
     "name": "stdout",
     "output_type": "stream",
     "text": [
      "0.84\n",
      "0.96\n",
      "0.95\n",
      "0.76\n",
      "0.44\n"
     ]
    }
   ],
   "source": [
    "\n",
    "# for i in clf.predict_proba(X_test[:5]):\n",
    "#     k = i[1]\n",
    "#     f = \"{0:.2f}\"\n",
    "#     k = f.format(k)\n",
    "#     print(k)"
   ]
  },
  {
   "cell_type": "code",
   "execution_count": 89,
   "id": "57593b57",
   "metadata": {},
   "outputs": [
    {
     "data": {
      "text/plain": [
       "array([[0.15554483, 0.84445517],\n",
       "       [0.03524712, 0.96475288],\n",
       "       [0.05418959, 0.94581041],\n",
       "       [0.24131055, 0.75868945],\n",
       "       [0.55698669, 0.44301331]])"
      ]
     },
     "execution_count": 89,
     "metadata": {},
     "output_type": "execute_result"
    }
   ],
   "source": [
    "clf.predict_proba(X_test[:5])"
   ]
  },
  {
   "cell_type": "code",
   "execution_count": null,
   "id": "77b6b0a3",
   "metadata": {},
   "outputs": [],
   "source": []
  }
 ],
 "metadata": {
  "kernelspec": {
   "display_name": "Python 3 (ipykernel)",
   "language": "python",
   "name": "python3"
  },
  "language_info": {
   "codemirror_mode": {
    "name": "ipython",
    "version": 3
   },
   "file_extension": ".py",
   "mimetype": "text/x-python",
   "name": "python",
   "nbconvert_exporter": "python",
   "pygments_lexer": "ipython3",
   "version": "3.10.1"
  }
 },
 "nbformat": 4,
 "nbformat_minor": 5
}
